{
 "cells": [
  {
   "cell_type": "markdown",
   "metadata": {},
   "source": [
    "# Get data from Amazon product co-purchasing network metadata"
   ]
  },
  {
   "cell_type": "code",
   "execution_count": 7,
   "metadata": {},
   "outputs": [],
   "source": [
    "from src.parser import *\n",
    "import simplejson\n",
    "import subprocess\n",
    "\n",
    "from src.utils import select_from_fulldump\n",
    "from src.insert_data import insert_from_dict_gen\n",
    "\n",
    "from src.query import q_a, q_c"
   ]
  },
  {
   "cell_type": "code",
   "execution_count": 2,
   "metadata": {},
   "outputs": [
    {
     "name": "stderr",
     "output_type": "stream",
     "text": [
      "15010574it [00:39, 383294.24it/s]"
     ]
    },
    {
     "name": "stdout",
     "output_type": "stream",
     "text": [
      "lines: 770519\n",
      "number of dumps: 548552\n"
     ]
    },
    {
     "name": "stderr",
     "output_type": "stream",
     "text": [
      "\n"
     ]
    }
   ],
   "source": [
    "file_path = \"data/amazon-meta.txt.gz\"\n",
    "result = subprocess.Popen('wc -l data/amazon-meta.txt.gz', shell=True, stdout=subprocess.PIPE)\n",
    "n_lines = int([l for l in result.stdout][0].decode().split()[0])\n",
    "\n",
    "dumps = [e for e in parse(file_path, total=n_lines) if e]\n",
    "n_dumps = len(dumps)\n",
    "\n",
    "print('lines:', n_lines)\n",
    "print('number of dumps:', n_dumps)\n",
    "# print(simplejson.dumps(dumps[1], indent=2))"
   ]
  },
  {
   "cell_type": "markdown",
   "metadata": {},
   "source": [
    "# insert dumps into psql"
   ]
  },
  {
   "cell_type": "code",
   "execution_count": 3,
   "metadata": {},
   "outputs": [
    {
     "name": "stdout",
     "output_type": "stream",
     "text": [
      "  File \"src/create_schema.py\", line 3\n",
      "    import psycopg2\n",
      "    ^\n",
      "IndentationError: unexpected indent\n"
     ]
    },
    {
     "name": "stderr",
     "output_type": "stream",
     "text": [
      "548552it [00:47, 11662.89it/s]\n",
      "100%|██████████| 25/25 [00:00<00:00, 7723.75it/s]\n",
      "100%|██████████| 51/51 [00:00<00:00, 10128.29it/s]\n"
     ]
    }
   ],
   "source": [
    "!python3 src/create_schema.py\n",
    "\n",
    "# number os dumps\n",
    "n = n_dumps\n",
    "\n",
    "prods = select_from_fulldump(dumps, 'products', n)\n",
    "cats = select_from_fulldump(dumps, 'categories', n)\n",
    "revs = select_from_fulldump(dumps, 'reviews', n)\n",
    "\n",
    "insert_from_dict_gen('products', prods)\n",
    "insert_from_dict_gen('categories', cats)\n",
    "insert_from_dict_gen('reviews', revs)"
   ]
  },
  {
   "cell_type": "markdown",
   "metadata": {},
   "source": [
    "# Dash BOard"
   ]
  },
  {
   "cell_type": "markdown",
   "metadata": {},
   "source": [
    "(a) Dado produto, listar os 5 comentários mais úteis e com maior avaliação e os 5 comentários mais úteis e com menor avaliação\n",
    "\n",
    "(b) Dado um produto, listar os produtos similares com maiores vendas do que ele\n",
    "\n",
    "(c) Dado um produto, mostrar a evolução diária das médias de avaliação ao longo do intervalo de tempo coberto no arquivo de entrada\n",
    "\n",
    "(d) Listar os 10 produtos lideres de venda em cada grupo de produtos\n",
    "\n",
    "(e) Listar os 10 produtos com a maior média de avaliações úteis positivas por produto\n",
    "\n",
    "(f) Listar a 5 categorias de produto com a maior média de avaliações úteis positivas por produto\n",
    "\n",
    "(g) Listar os 10 clientes que mais fizeram comentários por grupo de produto"
   ]
  },
  {
   "cell_type": "code",
   "execution_count": 4,
   "metadata": {},
   "outputs": [
    {
     "data": {
      "text/html": [
       "<div>\n",
       "<style scoped>\n",
       "    .dataframe tbody tr th:only-of-type {\n",
       "        vertical-align: middle;\n",
       "    }\n",
       "\n",
       "    .dataframe tbody tr th {\n",
       "        vertical-align: top;\n",
       "    }\n",
       "\n",
       "    .dataframe thead th {\n",
       "        text-align: right;\n",
       "    }\n",
       "</style>\n",
       "<table border=\"1\" class=\"dataframe\">\n",
       "  <thead>\n",
       "    <tr style=\"text-align: right;\">\n",
       "      <th></th>\n",
       "      <th>product_id</th>\n",
       "      <th>time</th>\n",
       "      <th>customer_id</th>\n",
       "      <th>rating</th>\n",
       "      <th>votes</th>\n",
       "      <th>helpful</th>\n",
       "    </tr>\n",
       "  </thead>\n",
       "  <tbody>\n",
       "    <tr>\n",
       "      <td>0</td>\n",
       "      <td>8</td>\n",
       "      <td>2000-11-19</td>\n",
       "      <td>AL5D52NA8F67F</td>\n",
       "      <td>5</td>\n",
       "      <td>16</td>\n",
       "      <td>13</td>\n",
       "    </tr>\n",
       "    <tr>\n",
       "      <td>5</td>\n",
       "      <td>8</td>\n",
       "      <td>2000-11-19</td>\n",
       "      <td>AL5D52NA8F67F</td>\n",
       "      <td>5</td>\n",
       "      <td>16</td>\n",
       "      <td>13</td>\n",
       "    </tr>\n",
       "    <tr>\n",
       "      <td>1</td>\n",
       "      <td>8</td>\n",
       "      <td>2000-11-01</td>\n",
       "      <td>A1OZQCZAK21S6M</td>\n",
       "      <td>5</td>\n",
       "      <td>13</td>\n",
       "      <td>12</td>\n",
       "    </tr>\n",
       "    <tr>\n",
       "      <td>6</td>\n",
       "      <td>8</td>\n",
       "      <td>2000-11-01</td>\n",
       "      <td>A1OZQCZAK21S6M</td>\n",
       "      <td>5</td>\n",
       "      <td>13</td>\n",
       "      <td>12</td>\n",
       "    </tr>\n",
       "    <tr>\n",
       "      <td>2</td>\n",
       "      <td>8</td>\n",
       "      <td>2001-10-25</td>\n",
       "      <td>AL5OEDM8TPTKV</td>\n",
       "      <td>5</td>\n",
       "      <td>10</td>\n",
       "      <td>10</td>\n",
       "    </tr>\n",
       "    <tr>\n",
       "      <td>7</td>\n",
       "      <td>8</td>\n",
       "      <td>2001-10-25</td>\n",
       "      <td>AL5OEDM8TPTKV</td>\n",
       "      <td>5</td>\n",
       "      <td>10</td>\n",
       "      <td>10</td>\n",
       "    </tr>\n",
       "    <tr>\n",
       "      <td>3</td>\n",
       "      <td>8</td>\n",
       "      <td>2000-10-31</td>\n",
       "      <td>A2F1X6YFCJZ1FH</td>\n",
       "      <td>5</td>\n",
       "      <td>10</td>\n",
       "      <td>9</td>\n",
       "    </tr>\n",
       "    <tr>\n",
       "      <td>8</td>\n",
       "      <td>8</td>\n",
       "      <td>2000-10-31</td>\n",
       "      <td>A2F1X6YFCJZ1FH</td>\n",
       "      <td>5</td>\n",
       "      <td>10</td>\n",
       "      <td>9</td>\n",
       "    </tr>\n",
       "    <tr>\n",
       "      <td>4</td>\n",
       "      <td>8</td>\n",
       "      <td>2001-12-24</td>\n",
       "      <td>A2WKESDGF2YC8S</td>\n",
       "      <td>5</td>\n",
       "      <td>8</td>\n",
       "      <td>8</td>\n",
       "    </tr>\n",
       "    <tr>\n",
       "      <td>9</td>\n",
       "      <td>8</td>\n",
       "      <td>2001-12-24</td>\n",
       "      <td>A2WKESDGF2YC8S</td>\n",
       "      <td>5</td>\n",
       "      <td>8</td>\n",
       "      <td>8</td>\n",
       "    </tr>\n",
       "  </tbody>\n",
       "</table>\n",
       "</div>"
      ],
      "text/plain": [
       "   product_id        time           customer_id  rating  votes  helpful\n",
       "0           8  2000-11-19  AL5D52NA8F67F              5     16       13\n",
       "5           8  2000-11-19  AL5D52NA8F67F              5     16       13\n",
       "1           8  2000-11-01  A1OZQCZAK21S6M             5     13       12\n",
       "6           8  2000-11-01  A1OZQCZAK21S6M             5     13       12\n",
       "2           8  2001-10-25  AL5OEDM8TPTKV              5     10       10\n",
       "7           8  2001-10-25  AL5OEDM8TPTKV              5     10       10\n",
       "3           8  2000-10-31  A2F1X6YFCJZ1FH             5     10        9\n",
       "8           8  2000-10-31  A2F1X6YFCJZ1FH             5     10        9\n",
       "4           8  2001-12-24  A2WKESDGF2YC8S             5      8        8\n",
       "9           8  2001-12-24  A2WKESDGF2YC8S             5      8        8"
      ]
     },
     "execution_count": 4,
     "metadata": {},
     "output_type": "execute_result"
    }
   ],
   "source": [
    "product_id = 8\n",
    "a = q_a(product_id)\n",
    "a"
   ]
  },
  {
   "cell_type": "code",
   "execution_count": 5,
   "metadata": {},
   "outputs": [
    {
     "data": {
      "image/png": "[encoded data removed]",
      "text/plain": [
       "<Figure size 432x288 with 1 Axes>"
      ]
     },
     "metadata": {
      "needs_background": "light"
     },
     "output_type": "display_data"
    }
   ],
   "source": [
    "a[::-1].plot.barh(title='helpful comments', x='customer_id', y='helpful');"
   ]
  },
  {
   "cell_type": "code",
   "execution_count": 8,
   "metadata": {},
   "outputs": [
    {
     "data": {
      "text/html": [
       "<div>\n",
       "<style scoped>\n",
       "    .dataframe tbody tr th:only-of-type {\n",
       "        vertical-align: middle;\n",
       "    }\n",
       "\n",
       "    .dataframe tbody tr th {\n",
       "        vertical-align: top;\n",
       "    }\n",
       "\n",
       "    .dataframe thead th {\n",
       "        text-align: right;\n",
       "    }\n",
       "</style>\n",
       "<table border=\"1\" class=\"dataframe\">\n",
       "  <thead>\n",
       "    <tr style=\"text-align: right;\">\n",
       "      <th></th>\n",
       "      <th>time</th>\n",
       "      <th>avg_rating</th>\n",
       "    </tr>\n",
       "  </thead>\n",
       "  <tbody>\n",
       "    <tr>\n",
       "      <td>12</td>\n",
       "      <td>2000-11-19</td>\n",
       "      <td>5.000000</td>\n",
       "    </tr>\n",
       "    <tr>\n",
       "      <td>13</td>\n",
       "      <td>2000-11-01</td>\n",
       "      <td>5.000000</td>\n",
       "    </tr>\n",
       "    <tr>\n",
       "      <td>14</td>\n",
       "      <td>2000-10-31</td>\n",
       "      <td>5.000000</td>\n",
       "    </tr>\n",
       "    <tr>\n",
       "      <td>3</td>\n",
       "      <td>2001-12-31</td>\n",
       "      <td>4.666667</td>\n",
       "    </tr>\n",
       "    <tr>\n",
       "      <td>4</td>\n",
       "      <td>2001-12-24</td>\n",
       "      <td>4.636364</td>\n",
       "    </tr>\n",
       "    <tr>\n",
       "      <td>2</td>\n",
       "      <td>2002-04-09</td>\n",
       "      <td>4.615385</td>\n",
       "    </tr>\n",
       "    <tr>\n",
       "      <td>5</td>\n",
       "      <td>2001-11-03</td>\n",
       "      <td>4.600000</td>\n",
       "    </tr>\n",
       "    <tr>\n",
       "      <td>6</td>\n",
       "      <td>2001-10-25</td>\n",
       "      <td>4.555556</td>\n",
       "    </tr>\n",
       "    <tr>\n",
       "      <td>7</td>\n",
       "      <td>2001-09-13</td>\n",
       "      <td>4.500000</td>\n",
       "    </tr>\n",
       "    <tr>\n",
       "      <td>0</td>\n",
       "      <td>2003-09-03</td>\n",
       "      <td>4.466667</td>\n",
       "    </tr>\n",
       "    <tr>\n",
       "      <td>1</td>\n",
       "      <td>2002-09-23</td>\n",
       "      <td>4.428571</td>\n",
       "    </tr>\n",
       "    <tr>\n",
       "      <td>8</td>\n",
       "      <td>2001-08-25</td>\n",
       "      <td>4.428571</td>\n",
       "    </tr>\n",
       "    <tr>\n",
       "      <td>9</td>\n",
       "      <td>2001-07-01</td>\n",
       "      <td>4.333333</td>\n",
       "    </tr>\n",
       "    <tr>\n",
       "      <td>10</td>\n",
       "      <td>2001-05-10</td>\n",
       "      <td>4.200000</td>\n",
       "    </tr>\n",
       "    <tr>\n",
       "      <td>11</td>\n",
       "      <td>2001-04-16</td>\n",
       "      <td>4.000000</td>\n",
       "    </tr>\n",
       "  </tbody>\n",
       "</table>\n",
       "</div>"
      ],
      "text/plain": [
       "          time  avg_rating\n",
       "12  2000-11-19    5.000000\n",
       "13  2000-11-01    5.000000\n",
       "14  2000-10-31    5.000000\n",
       "3   2001-12-31    4.666667\n",
       "4   2001-12-24    4.636364\n",
       "2   2002-04-09    4.615385\n",
       "5   2001-11-03    4.600000\n",
       "6   2001-10-25    4.555556\n",
       "7   2001-09-13    4.500000\n",
       "0   2003-09-03    4.466667\n",
       "1   2002-09-23    4.428571\n",
       "8   2001-08-25    4.428571\n",
       "9   2001-07-01    4.333333\n",
       "10  2001-05-10    4.200000\n",
       "11  2001-04-16    4.000000"
      ]
     },
     "execution_count": 8,
     "metadata": {},
     "output_type": "execute_result"
    }
   ],
   "source": [
    "c = q_c(product_id)\n",
    "c"
   ]
  },
  {
   "cell_type": "code",
   "execution_count": 9,
   "metadata": {},
   "outputs": [
    {
     "data": {
      "image/png": "[encoded data removed]",
      "text/plain": [
       "<Figure size 432x288 with 1 Axes>"
      ]
     },
     "metadata": {
      "needs_background": "light"
     },
     "output_type": "display_data"
    }
   ],
   "source": [
    "c.plot(x='time', y='avg_rating');"
   ]
  },
  {
   "cell_type": "code",
   "execution_count": null,
   "metadata": {},
   "outputs": [],
   "source": []
  }
 ],
 "metadata": {
  "kernelspec": {
   "display_name": "Python 3",
   "language": "python",
   "name": "python3"
  },
  "language_info": {
   "codemirror_mode": {
    "name": "ipython",
    "version": 3
   },
   "file_extension": ".py",
   "mimetype": "text/x-python",
   "name": "python",
   "nbconvert_exporter": "python",
   "pygments_lexer": "ipython3",
   "version": "3.6.8"
  }
 },
 "nbformat": 4,
 "nbformat_minor": 2
}
