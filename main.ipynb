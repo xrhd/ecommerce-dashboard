{
 "cells": [
  {
   "cell_type": "markdown",
   "metadata": {},
   "source": [
    "# Get data from Amazon product co-purchasing network metadata"
   ]
  },
  {
   "cell_type": "code",
   "execution_count": 1,
   "metadata": {},
   "outputs": [],
   "source": [
    "from src.parser import *\n",
    "import simplejson\n",
    "import subprocess"
   ]
  },
  {
   "cell_type": "code",
   "execution_count": 2,
   "metadata": {},
   "outputs": [
    {
     "name": "stderr",
     "output_type": "stream",
     "text": [
      "15010574it [00:38, 389511.82it/s]"
     ]
    },
    {
     "name": "stdout",
     "output_type": "stream",
     "text": [
      "lines: 770519\n",
      "number of dumps: 548552\n"
     ]
    },
    {
     "name": "stderr",
     "output_type": "stream",
     "text": [
      "\n"
     ]
    }
   ],
   "source": [
    "file_path = \"data/amazon-meta.txt.gz\"\n",
    "result = subprocess.Popen('wc -l data/amazon-meta.txt.gz', shell=True, stdout=subprocess.PIPE)\n",
    "n_lines = int([l for l in result.stdout][0].decode().split()[0])\n",
    "\n",
    "dumps = [e for e in parse(file_path, total=n_lines) if e]\n",
    "n_dumps = len(dumps)\n",
    "\n",
    "print('lines:', n_lines)\n",
    "print('number of dumps:', n_dumps)"
   ]
  },
  {
   "cell_type": "code",
   "execution_count": 7,
   "metadata": {},
   "outputs": [],
   "source": [
    "# sample json\n",
    "# print(simplejson.dumps(dumps[1], indent=2))"
   ]
  },
  {
   "cell_type": "markdown",
   "metadata": {},
   "source": [
    "# insert dumps into psql"
   ]
  },
  {
   "cell_type": "code",
   "execution_count": 4,
   "metadata": {},
   "outputs": [],
   "source": [
    "!python3 src/create_schema.py"
   ]
  },
  {
   "cell_type": "code",
   "execution_count": 5,
   "metadata": {},
   "outputs": [],
   "source": [
    "from src.utils import select_from_fulldump\n",
    "from src.insert_data import insert_from_dict_gen"
   ]
  },
  {
   "cell_type": "code",
   "execution_count": 9,
   "metadata": {},
   "outputs": [
    {
     "name": "stderr",
     "output_type": "stream",
     "text": [
      "137138it [00:11, 11956.47it/s]\n",
      "100%|██████████| 25/25 [00:00<00:00, 8769.56it/s]\n",
      "100%|██████████| 51/51 [00:00<00:00, 11186.57it/s]\n"
     ]
    }
   ],
   "source": [
    "# number os dumps\n",
    "n = n_dumps//4\n",
    "\n",
    "prods = select_from_fulldump(dumps, 'products', n)\n",
    "cats = select_from_fulldump(dumps, 'categories', n)\n",
    "revs = select_from_fulldump(dumps, 'reviews', n)\n",
    "\n",
    "insert_from_dict_gen('products', prods)\n",
    "insert_from_dict_gen('categories', cats)\n",
    "insert_from_dict_gen('reviews', revs)"
   ]
  },
  {
   "cell_type": "markdown",
   "metadata": {},
   "source": [
    "# Dash BOard"
   ]
  },
  {
   "cell_type": "code",
   "execution_count": null,
   "metadata": {},
   "outputs": [],
   "source": []
  }
 ],
 "metadata": {
  "kernelspec": {
   "display_name": "Python 3",
   "language": "python",
   "name": "python3"
  },
  "language_info": {
   "codemirror_mode": {
    "name": "ipython",
    "version": 3
   },
   "file_extension": ".py",
   "mimetype": "text/x-python",
   "name": "python",
   "nbconvert_exporter": "python",
   "pygments_lexer": "ipython3",
   "version": "3.6.8"
  }
 },
 "nbformat": 4,
 "nbformat_minor": 2
}
