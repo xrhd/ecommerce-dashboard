{
 "cells": [
  {
   "cell_type": "markdown",
   "metadata": {},
   "source": [
    "# Get data from Amazon product co-purchasing network metadata"
   ]
  },
  {
   "cell_type": "code",
   "execution_count": 1,
   "metadata": {},
   "outputs": [],
   "source": [
    "from src.parser import *\n",
    "import simplejson\n",
    "import subprocess\n",
    "\n",
    "from src.utils import select_from_fulldump\n",
    "from src.insert_data import insert_from_dict_gen\n",
    "import matplotlib.pyplot as plt\n",
    "\n",
    "from src.query import q_a, q_c, q_d, q_e, q_g"
   ]
  },
  {
   "cell_type": "code",
   "execution_count": 2,
   "metadata": {},
   "outputs": [
    {
     "name": "stderr",
     "output_type": "stream",
     "text": [
      "15010574it [00:38, 392091.06it/s]                          \n"
     ]
    },
    {
     "name": "stdout",
     "output_type": "stream",
     "text": [
      "lines: 770519\n",
      "number of dumps: 548552\n"
     ]
    }
   ],
   "source": [
    "file_path = \"data/amazon-meta.txt.gz\"\n",
    "result = subprocess.Popen('wc -l data/amazon-meta.txt.gz', shell=True, stdout=subprocess.PIPE)\n",
    "n_lines = int([l for l in result.stdout][0].decode().split()[0])\n",
    "\n",
    "dumps = [e for e in parse(file_path, total=n_lines) if e]\n",
    "for dump in dumps:\n",
    "    if 'group' in dump:\n",
    "        dump['product_group'] = dump.pop('group')\n",
    "n_dumps = len(dumps)\n",
    "\n",
    "print('lines:', n_lines)\n",
    "print('number of dumps:', n_dumps)\n",
    "# print(simplejson.dumps(dumps[1], indent=2))"
   ]
  },
  {
   "cell_type": "code",
   "execution_count": 3,
   "metadata": {},
   "outputs": [
    {
     "data": {
      "text/plain": [
       "{'id': '1',\n",
       " 'ASIN': '0827229534',\n",
       " 'title': 'Patterns of Preaching: A Sermon Sampler',\n",
       " 'salesrank': '396585',\n",
       " 'similar_amount': '5',\n",
       " 'similar_items': ['0804215715',\n",
       "  '156101074X',\n",
       "  '0687023955',\n",
       "  '0687074231',\n",
       "  '082721619X'],\n",
       " 'categories_amount': '2',\n",
       " 'reviews_total': 2,\n",
       " 'reviews_downloaded': 2,\n",
       " 'reviews_avg_rating': 5.0,\n",
       " 'reviews': [{'time': '2000-7-28',\n",
       "   'customer_id': 'A2JW67OY8U6HHK',\n",
       "   'rating': 5,\n",
       "   'votes': 10,\n",
       "   'helpful': 9},\n",
       "  {'time': '2003-12-14',\n",
       "   'customer_id': 'A2VE83MZF98ITY',\n",
       "   'rating': 5,\n",
       "   'votes': 6,\n",
       "   'helpful': 5}],\n",
       " 'categories': [{'id': 12368,\n",
       "   'hierarchy': '|Books[283155]|Subjects[1000]|Religion & Spirituality[22]|Christianity[12290]|Clergy[12360]|Preaching[12368]'},\n",
       "  {'id': 12370,\n",
       "   'hierarchy': '|Books[283155]|Subjects[1000]|Religion & Spirituality[22]|Christianity[12290]|Clergy[12360]|Sermons[12370]'}],\n",
       " 'product_group': 'Book'}"
      ]
     },
     "execution_count": 3,
     "metadata": {},
     "output_type": "execute_result"
    }
   ],
   "source": [
    "dumps[1]"
   ]
  },
  {
   "cell_type": "markdown",
   "metadata": {},
   "source": [
    "# insert dumps into psql"
   ]
  },
  {
   "cell_type": "code",
   "execution_count": null,
   "metadata": {},
   "outputs": [
    {
     "name": "stderr",
     "output_type": "stream",
     "text": [
      "412335it [00:40, 10174.80it/s]"
     ]
    }
   ],
   "source": [
    "!python3 src/create_schema.py\n",
    "\n",
    "# number os dumps\n",
    "n = n_dumps\n",
    "\n",
    "prods = select_from_fulldump(dumps, 'products', n)\n",
    "cats = select_from_fulldump(dumps, 'categories', n)\n",
    "revs = select_from_fulldump(dumps, 'reviews', n)\n",
    "\n",
    "insert_from_dict_gen('products', prods)\n",
    "insert_from_dict_gen('categories', cats)\n",
    "insert_from_dict_gen('reviews', revs)"
   ]
  },
  {
   "cell_type": "markdown",
   "metadata": {},
   "source": [
    "# Dash BOard"
   ]
  },
  {
   "cell_type": "markdown",
   "metadata": {},
   "source": [
    "(a) Dado produto, listar os 5 comentários mais úteis e com maior avaliação e os 5 comentários mais úteis e com menor avaliação\n",
    "\n",
    "(b) Dado um produto, listar os produtos similares com maiores vendas do que ele\n",
    "\n",
    "(c) Dado um produto, mostrar a evolução diária das médias de avaliação ao longo do intervalo de tempo coberto no arquivo de entrada\n",
    "\n",
    "(d) Listar os 10 produtos lideres de venda em cada grupo de produtos\n",
    "\n",
    "(e) Listar os 10 produtos com a maior média de avaliações úteis positivas por produto\n",
    "\n",
    "(f) Listar a 5 categorias de produto com a maior média de avaliações úteis positivas por produto\n",
    "\n",
    "(g) Listar os 10 clientes que mais fizeram comentários por grupo de produto"
   ]
  },
  {
   "cell_type": "markdown",
   "metadata": {},
   "source": [
    "# A"
   ]
  },
  {
   "cell_type": "code",
   "execution_count": null,
   "metadata": {},
   "outputs": [],
   "source": [
    "product_id = 8\n",
    "a = q_a(product_id)\n",
    "a.head(10)"
   ]
  },
  {
   "cell_type": "code",
   "execution_count": null,
   "metadata": {},
   "outputs": [],
   "source": [
    "a[::-1].plot.barh(title='helpful comments', x='customer_id', y='helpful');"
   ]
  },
  {
   "cell_type": "markdown",
   "metadata": {},
   "source": [
    "# C"
   ]
  },
  {
   "cell_type": "code",
   "execution_count": null,
   "metadata": {},
   "outputs": [],
   "source": [
    "c = q_c(product_id)\n",
    "c.head(10)"
   ]
  },
  {
   "cell_type": "code",
   "execution_count": null,
   "metadata": {},
   "outputs": [],
   "source": [
    "c.plot(title='product avg rating', x='time', y='avg_rating');"
   ]
  },
  {
   "cell_type": "markdown",
   "metadata": {},
   "source": [
    "# D"
   ]
  },
  {
   "cell_type": "code",
   "execution_count": null,
   "metadata": {},
   "outputs": [],
   "source": [
    "d = q_d()\n",
    "d.head(10)"
   ]
  },
  {
   "cell_type": "code",
   "execution_count": null,
   "metadata": {},
   "outputs": [],
   "source": [
    "d[::-1][:10].plot.barh(title='Top Ranked Groups', x='product_group', y='salesrank')\n",
    "plt.show()"
   ]
  },
  {
   "cell_type": "markdown",
   "metadata": {},
   "source": [
    "# E"
   ]
  },
  {
   "cell_type": "code",
   "execution_count": null,
   "metadata": {},
   "outputs": [],
   "source": [
    "e = q_e()\n",
    "e.head(10)"
   ]
  },
  {
   "cell_type": "code",
   "execution_count": null,
   "metadata": {},
   "outputs": [],
   "source": [
    "e.plot.barh(title='Top reviews avgrating', x='title', y='reviews_avg_rating')"
   ]
  },
  {
   "cell_type": "markdown",
   "metadata": {},
   "source": [
    "# G"
   ]
  },
  {
   "cell_type": "code",
   "execution_count": null,
   "metadata": {},
   "outputs": [],
   "source": [
    "g = q_g()\n",
    "g.head(10)"
   ]
  },
  {
   "cell_type": "code",
   "execution_count": null,
   "metadata": {},
   "outputs": [],
   "source": []
  }
 ],
 "metadata": {
  "kernelspec": {
   "display_name": "Python 3",
   "language": "python",
   "name": "python3"
  },
  "language_info": {
   "codemirror_mode": {
    "name": "ipython",
    "version": 3
   },
   "file_extension": ".py",
   "mimetype": "text/x-python",
   "name": "python",
   "nbconvert_exporter": "python",
   "pygments_lexer": "ipython3",
   "version": "3.6.8"
  }
 },
 "nbformat": 4,
 "nbformat_minor": 2
}
