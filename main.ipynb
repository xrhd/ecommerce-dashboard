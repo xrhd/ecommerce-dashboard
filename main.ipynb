{
 "cells": [
  {
   "cell_type": "markdown",
   "metadata": {},
   "source": [
    "# Get data from Amazon product co-purchasing network metadata"
   ]
  },
  {
   "cell_type": "code",
   "execution_count": 1,
   "metadata": {},
   "outputs": [],
   "source": [
    "from src.parser import *\n",
    "import simplejson\n",
    "import subprocess\n",
    "\n",
    "from src.utils import select_from_fulldump\n",
    "from src.insert_data import insert_from_dict_gen\n",
    "\n",
    "from src.query import q_a"
   ]
  },
  {
   "cell_type": "code",
   "execution_count": 2,
   "metadata": {},
   "outputs": [
    {
     "name": "stderr",
     "output_type": "stream",
     "text": [
      "15010574it [00:39, 384383.15it/s]"
     ]
    },
    {
     "name": "stdout",
     "output_type": "stream",
     "text": [
      "lines: 770519\n",
      "number of dumps: 548552\n"
     ]
    },
    {
     "name": "stderr",
     "output_type": "stream",
     "text": [
      "\n"
     ]
    }
   ],
   "source": [
    "file_path = \"data/amazon-meta.txt.gz\"\n",
    "result = subprocess.Popen('wc -l data/amazon-meta.txt.gz', shell=True, stdout=subprocess.PIPE)\n",
    "n_lines = int([l for l in result.stdout][0].decode().split()[0])\n",
    "\n",
    "dumps = [e for e in parse(file_path, total=n_lines) if e]\n",
    "n_dumps = len(dumps)\n",
    "\n",
    "print('lines:', n_lines)\n",
    "print('number of dumps:', n_dumps)\n",
    "# print(simplejson.dumps(dumps[1], indent=2))"
   ]
  },
  {
   "cell_type": "markdown",
   "metadata": {},
   "source": [
    "# insert dumps into psql"
   ]
  },
  {
   "cell_type": "code",
   "execution_count": 32,
   "metadata": {},
   "outputs": [
    {
     "name": "stderr",
     "output_type": "stream",
     "text": [
      "137138it [00:12, 10676.81it/s]\n",
      "100%|██████████| 25/25 [00:00<00:00, 9232.05it/s]\n",
      "100%|██████████| 51/51 [00:00<00:00, 7672.78it/s]\n"
     ]
    }
   ],
   "source": [
    "!python3 src/create_schema.py\n",
    "\n",
    "# number os dumps\n",
    "n = n_dumps//4\n",
    "\n",
    "prods = select_from_fulldump(dumps, 'products', n)\n",
    "cats = select_from_fulldump(dumps, 'categories', n)\n",
    "revs = select_from_fulldump(dumps, 'reviews', n)\n",
    "\n",
    "insert_from_dict_gen('products', prods)\n",
    "insert_from_dict_gen('categories', cats)\n",
    "insert_from_dict_gen('reviews', revs)"
   ]
  },
  {
   "cell_type": "markdown",
   "metadata": {},
   "source": [
    "# Dash BOard"
   ]
  },
  {
   "cell_type": "markdown",
   "metadata": {},
   "source": [
    "(a) Dado produto, listar os 5 comentários mais úteis e com maior avaliação e os 5 comentários mais úteis e com menor avaliação"
   ]
  },
  {
   "cell_type": "code",
   "execution_count": 46,
   "metadata": {},
   "outputs": [
    {
     "data": {
      "image/png": "[encoded data removed]",
      "text/plain": [
       "<Figure size 432x288 with 1 Axes>"
      ]
     },
     "metadata": {
      "needs_background": "light"
     },
     "output_type": "display_data"
    }
   ],
   "source": [
    "product_id = 8\n",
    "a = q_a(product_id)\n",
    "a[::-1].plot.barh(title='helpful comments', x='customer_id', y='helpful');"
   ]
  },
  {
   "cell_type": "code",
   "execution_count": null,
   "metadata": {},
   "outputs": [],
   "source": []
  }
 ],
 "metadata": {
  "kernelspec": {
   "display_name": "Python 3",
   "language": "python",
   "name": "python3"
  },
  "language_info": {
   "codemirror_mode": {
    "name": "ipython",
    "version": 3
   },
   "file_extension": ".py",
   "mimetype": "text/x-python",
   "name": "python",
   "nbconvert_exporter": "python",
   "pygments_lexer": "ipython3",
   "version": "3.6.8"
  }
 },
 "nbformat": 4,
 "nbformat_minor": 2
}
